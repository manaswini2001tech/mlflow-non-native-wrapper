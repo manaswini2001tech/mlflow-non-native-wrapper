{
 "cells": [
  {
   "cell_type": "code",
   "execution_count": 14,
   "id": "d7f97347",
   "metadata": {},
   "outputs": [
    {
     "name": "stderr",
     "output_type": "stream",
     "text": [
      "100%|██████████████████████████████████████████████████████████████████████████| 5/5 [00:00<00:00, 1969.90it/s]"
     ]
    },
    {
     "name": "stdout",
     "output_type": "stream",
     "text": [
      "Recommendations for user 0: (array([[1, 2, 0, 0, 0, 0, 0, 0, 0, 0],\n",
      "       [0, 2, 1, 0, 0, 0, 0, 0, 0, 0],\n",
      "       [2, 1, 0, 0, 0, 0, 0, 0, 0, 0]], dtype=int32), array([[-4.1605007e-02, -3.4028235e+38, -3.4028235e+38,  0.0000000e+00,\n",
      "         0.0000000e+00,  0.0000000e+00,  0.0000000e+00,  0.0000000e+00,\n",
      "         0.0000000e+00,  0.0000000e+00],\n",
      "       [ 1.0010400e+00,  8.2138503e-01, -3.4028235e+38,  0.0000000e+00,\n",
      "         0.0000000e+00,  0.0000000e+00,  0.0000000e+00,  0.0000000e+00,\n",
      "         0.0000000e+00,  0.0000000e+00],\n",
      "       [-2.2125995e-01, -3.4028235e+38, -3.4028235e+38,  0.0000000e+00,\n",
      "         0.0000000e+00,  0.0000000e+00,  0.0000000e+00,  0.0000000e+00,\n",
      "         0.0000000e+00,  0.0000000e+00]], dtype=float32))\n"
     ]
    },
    {
     "name": "stderr",
     "output_type": "stream",
     "text": [
      "\n"
     ]
    }
   ],
   "source": [
    "import numpy as np\n",
    "import scipy.sparse\n",
    "# import implicit\n",
    "\n",
    "# Create a sparse user-item matrix\n",
    "data = np.array([\n",
    "    [1, 0, 1],\n",
    "    [0, 1, 0],\n",
    "    [1, 1, 0]\n",
    "])\n",
    "sparse_matrix = scipy.sparse.csr_matrix(data)\n",
    "\n",
    "model = mlflow_custom.implicit.als.AlternatingLeastSquares(factors=2, regularization=0.1, iterations=5)\n",
    "model.fit(sparse_matrix)\n",
    "\n",
    "# Recommend items for user 0\n",
    "user_id = [0,0,1]\n",
    "recommended = model.recommend(user_id, sparse_matrix)\n",
    "print(\"Recommendations for user 0:\", recommended)\n"
   ]
  },
  {
   "cell_type": "code",
   "execution_count": 2,
   "id": "be1ff5e1",
   "metadata": {},
   "outputs": [],
   "source": [
    "import mlxtend"
   ]
  },
  {
   "cell_type": "code",
   "execution_count": 3,
   "id": "30179b27",
   "metadata": {},
   "outputs": [],
   "source": [
    "import mlflow"
   ]
  },
  {
   "cell_type": "code",
   "execution_count": 5,
   "id": "33f884fd",
   "metadata": {},
   "outputs": [],
   "source": [
    "import mlflow_custom.implicit"
   ]
  },
  {
   "cell_type": "code",
   "execution_count": 9,
   "id": "124ac647",
   "metadata": {},
   "outputs": [
    {
     "ename": "AttributeError",
     "evalue": "module 'implicit.gpu' has no attribute 'HAS_CUDA'",
     "output_type": "error",
     "traceback": [
      "\u001b[1;31m---------------------------------------------------------------------------\u001b[0m",
      "\u001b[1;31mAttributeError\u001b[0m                            Traceback (most recent call last)",
      "Cell \u001b[1;32mIn[9], line 2\u001b[0m\n\u001b[0;32m      1\u001b[0m \u001b[38;5;28;01mimport\u001b[39;00m\u001b[38;5;250m \u001b[39m\u001b[38;5;21;01mimplicit\u001b[39;00m\u001b[38;5;21;01m.\u001b[39;00m\u001b[38;5;21;01mgpu\u001b[39;00m\n\u001b[1;32m----> 2\u001b[0m \u001b[38;5;28;01mfrom\u001b[39;00m\u001b[38;5;250m \u001b[39m\u001b[38;5;21;01mimplicit\u001b[39;00m\u001b[38;5;21;01m.\u001b[39;00m\u001b[38;5;21;01mals\u001b[39;00m\u001b[38;5;250m \u001b[39m\u001b[38;5;28;01mimport\u001b[39;00m AlternatingLeastSquares \u001b[38;5;28;01mas\u001b[39;00m ALS\n",
      "File \u001b[1;32m~\\miniconda3\\envs\\mlflow_implicit\\lib\\site-packages\\implicit\\als.py:14\u001b[0m\n\u001b[0;32m      3\u001b[0m \u001b[38;5;28;01mimport\u001b[39;00m\u001b[38;5;250m \u001b[39m\u001b[38;5;21;01mimplicit\u001b[39;00m\u001b[38;5;21;01m.\u001b[39;00m\u001b[38;5;21;01mcpu\u001b[39;00m\u001b[38;5;21;01m.\u001b[39;00m\u001b[38;5;21;01mals\u001b[39;00m\n\u001b[0;32m      4\u001b[0m \u001b[38;5;28;01mimport\u001b[39;00m\u001b[38;5;250m \u001b[39m\u001b[38;5;21;01mimplicit\u001b[39;00m\u001b[38;5;21;01m.\u001b[39;00m\u001b[38;5;21;01mgpu\u001b[39;00m\u001b[38;5;21;01m.\u001b[39;00m\u001b[38;5;21;01mals\u001b[39;00m\n\u001b[0;32m      7\u001b[0m \u001b[38;5;28;01mdef\u001b[39;00m\u001b[38;5;250m \u001b[39m\u001b[38;5;21mAlternatingLeastSquares\u001b[39m(\n\u001b[0;32m      8\u001b[0m     factors\u001b[38;5;241m=\u001b[39m\u001b[38;5;241m100\u001b[39m,\n\u001b[0;32m      9\u001b[0m     regularization\u001b[38;5;241m=\u001b[39m\u001b[38;5;241m0.01\u001b[39m,\n\u001b[0;32m     10\u001b[0m     alpha\u001b[38;5;241m=\u001b[39m\u001b[38;5;241m1.0\u001b[39m,\n\u001b[0;32m     11\u001b[0m     dtype\u001b[38;5;241m=\u001b[39mnp\u001b[38;5;241m.\u001b[39mfloat32,\n\u001b[0;32m     12\u001b[0m     use_native\u001b[38;5;241m=\u001b[39m\u001b[38;5;28;01mTrue\u001b[39;00m,\n\u001b[0;32m     13\u001b[0m     use_cg\u001b[38;5;241m=\u001b[39m\u001b[38;5;28;01mTrue\u001b[39;00m,\n\u001b[1;32m---> 14\u001b[0m     use_gpu\u001b[38;5;241m=\u001b[39m\u001b[43mimplicit\u001b[49m\u001b[38;5;241;43m.\u001b[39;49m\u001b[43mgpu\u001b[49m\u001b[38;5;241;43m.\u001b[39;49m\u001b[43mHAS_CUDA\u001b[49m,\n\u001b[0;32m     15\u001b[0m     iterations\u001b[38;5;241m=\u001b[39m\u001b[38;5;241m15\u001b[39m,\n\u001b[0;32m     16\u001b[0m     calculate_training_loss\u001b[38;5;241m=\u001b[39m\u001b[38;5;28;01mFalse\u001b[39;00m,\n\u001b[0;32m     17\u001b[0m     num_threads\u001b[38;5;241m=\u001b[39m\u001b[38;5;241m0\u001b[39m,\n\u001b[0;32m     18\u001b[0m     random_state\u001b[38;5;241m=\u001b[39m\u001b[38;5;28;01mNone\u001b[39;00m,\n\u001b[0;32m     19\u001b[0m ):\n\u001b[0;32m     20\u001b[0m \u001b[38;5;250m    \u001b[39m\u001b[38;5;124;03m\"\"\"Alternating Least Squares\u001b[39;00m\n\u001b[0;32m     21\u001b[0m \n\u001b[0;32m     22\u001b[0m \u001b[38;5;124;03m    A Recommendation Model based off the algorithms described in the paper 'Collaborative\u001b[39;00m\n\u001b[1;32m   (...)\u001b[0m\n\u001b[0;32m     57\u001b[0m \u001b[38;5;124;03m        Default is None.\u001b[39;00m\n\u001b[0;32m     58\u001b[0m \u001b[38;5;124;03m    \"\"\"\u001b[39;00m\n\u001b[0;32m     59\u001b[0m     \u001b[38;5;28;01mif\u001b[39;00m use_gpu:\n",
      "\u001b[1;31mAttributeError\u001b[0m: module 'implicit.gpu' has no attribute 'HAS_CUDA'"
     ]
    }
   ],
   "source": [
    "import implicit.gpu\n",
    "from implicit.als import AlternatingLeastSquares as ALS"
   ]
  },
  {
   "cell_type": "code",
   "execution_count": 10,
   "id": "e4b46fd9",
   "metadata": {},
   "outputs": [],
   "source": [
    "import implicit\n",
    "\n",
    "# Try to import implicit.gpu and set HAS_CUDA to False if missing\n",
    "try:\n",
    "    import implicit.gpu\n",
    "    if not hasattr(implicit.gpu, \"HAS_CUDA\"):\n",
    "        implicit.gpu.HAS_CUDA = False\n",
    "except ImportError:\n",
    "    import types\n",
    "    implicit.gpu = types.SimpleNamespace(HAS_CUDA=False)\n",
    "\n",
    "from implicit.als import AlternatingLeastSquares as ALS"
   ]
  },
  {
   "cell_type": "code",
   "execution_count": 11,
   "id": "34b874bd",
   "metadata": {},
   "outputs": [],
   "source": [
    "import mlflow_custom.implicit\n",
    "from mlflow_custom.implicit.als import AlternatingLeastSquares as ALS"
   ]
  },
  {
   "cell_type": "code",
   "execution_count": 15,
   "id": "b61284d1",
   "metadata": {},
   "outputs": [],
   "source": [
    "mlflow.set_tracking_uri(\"http://127.0.0.1:5000/\")"
   ]
  },
  {
   "cell_type": "code",
   "execution_count": 25,
   "id": "a1721c3c",
   "metadata": {},
   "outputs": [
    {
     "name": "stderr",
     "output_type": "stream",
     "text": [
      "100%|██████████████████████████████████████████████████████████████████████████| 5/5 [00:00<00:00, 2521.22it/s]\n",
      "2025/06/02 01:49:41 WARNING mlflow.utils.requirements_utils: The following packages were not found in the public PyPI package index as of 2025-04-15; if these packages are not present in the public PyPI index, you must install them manually before loading your model: {'mlflow-custom-wrapper'}\n",
      "2025/06/02 01:49:41 WARNING mlflow.models.model: Model logged without a signature and input example. Please set `input_example` parameter when logging the model to auto infer the model signature.\n"
     ]
    },
    {
     "name": "stdout",
     "output_type": "stream",
     "text": [
      "Recommendations for user 0: (array([[1, 2, 0, 0, 0, 0, 0, 0, 0, 0],\n",
      "       [0, 2, 1, 0, 0, 0, 0, 0, 0, 0],\n",
      "       [2, 1, 0, 0, 0, 0, 0, 0, 0, 0]], dtype=int32), array([[-6.9088057e-02, -3.4028235e+38, -3.4028235e+38,  0.0000000e+00,\n",
      "         0.0000000e+00,  0.0000000e+00,  0.0000000e+00,  0.0000000e+00,\n",
      "         0.0000000e+00,  0.0000000e+00],\n",
      "       [ 9.9047190e-01,  8.2506180e-01, -3.4028235e+38,  0.0000000e+00,\n",
      "         0.0000000e+00,  0.0000000e+00,  0.0000000e+00,  0.0000000e+00,\n",
      "         0.0000000e+00,  0.0000000e+00],\n",
      "       [-2.3449808e-01, -3.4028235e+38, -3.4028235e+38,  0.0000000e+00,\n",
      "         0.0000000e+00,  0.0000000e+00,  0.0000000e+00,  0.0000000e+00,\n",
      "         0.0000000e+00,  0.0000000e+00]], dtype=float32))\n",
      "Run ID: e7247c753a3e4652add0b50c03ba27ed\n",
      "🏃 View run ALS_recommender_run_mp at: http://127.0.0.1:5000/#/experiments/285849710476567689/runs/e7247c753a3e4652add0b50c03ba27ed\n",
      "🧪 View experiment at: http://127.0.0.1:5000/#/experiments/285849710476567689\n"
     ]
    }
   ],
   "source": [
    "import numpy as np\n",
    "import scipy.sparse\n",
    "import mlflow\n",
    "import mlflow_custom.implicit.als\n",
    "\n",
    "# Set up MLflow experiment\n",
    "mlflow.set_experiment(\"implicit_als_experiment\")\n",
    "\n",
    "with mlflow.start_run(run_name=\"ALS_recommender_run_mp\") as run:\n",
    "    # Parameters\n",
    "    factors = 2\n",
    "    regularization = 0.1\n",
    "    iterations = 5\n",
    "\n",
    "    # Log hyperparameters\n",
    "    mlflow.log_param(\"factors\", factors)\n",
    "    mlflow.log_param(\"regularization\", regularization)\n",
    "    mlflow.log_param(\"iterations\", iterations)\n",
    "\n",
    "    # Data\n",
    "    data = np.array([\n",
    "        [1, 0, 1],\n",
    "        [0, 1, 0],\n",
    "        [1, 1, 0]\n",
    "    ])\n",
    "    sparse_matrix = scipy.sparse.csr_matrix(data)\n",
    "\n",
    "    # Model training\n",
    "    model = mlflow_custom.implicit.als.AlternatingLeastSquares(\n",
    "        factors=factors, \n",
    "        regularization=regularization, \n",
    "        iterations=iterations\n",
    "    )\n",
    "    model.fit(sparse_matrix)\n",
    "\n",
    "    # Log model using the mlflow_custom flavor proxy\n",
    "    mlflow_custom.implicit.log_model(\n",
    "        artifact_path=\"als_model\",\n",
    "        model=model\n",
    "    )\n",
    "\n",
    "    # Example: recommend items for user 0 and 1\n",
    "    user_ids = [0,0,1]\n",
    "    user_id = [0,0,1]\n",
    "    recommended = model.recommend(user_id, sparse_matrix)\n",
    "    print(\"Recommendations for user 0:\", recommended)\n",
    "\n",
    "#     recommended = model.recommend(user_id, sparse_matrix)\n",
    "#     print(f\"Recommendations for user {user_id}:\", recommended)\n",
    "#     # Log a metric: sum of scores for the top recommendation\n",
    "#     if len(recommended) > 0:\n",
    "    mlflow.log_metric(f\"user_top_score\", recommended[0][1].tolist()[1])\n",
    "\n",
    "#     # Optionally log the run ID\n",
    "    print(f\"Run ID: {run.info.run_id}\")"
   ]
  },
  {
   "cell_type": "code",
   "execution_count": 22,
   "id": "90eac510",
   "metadata": {},
   "outputs": [
    {
     "data": {
      "text/plain": [
       "2"
      ]
     },
     "execution_count": 22,
     "metadata": {},
     "output_type": "execute_result"
    }
   ],
   "source": [
    "recommended[0][1].tolist()[1]"
   ]
  },
  {
   "cell_type": "code",
   "execution_count": null,
   "id": "1e35b711",
   "metadata": {},
   "outputs": [],
   "source": []
  }
 ],
 "metadata": {
  "kernelspec": {
   "display_name": "mlflow_implicit",
   "language": "python",
   "name": "mlflow_implicit"
  },
  "language_info": {
   "codemirror_mode": {
    "name": "ipython",
    "version": 3
   },
   "file_extension": ".py",
   "mimetype": "text/x-python",
   "name": "python",
   "nbconvert_exporter": "python",
   "pygments_lexer": "ipython3",
   "version": "3.10.16"
  }
 },
 "nbformat": 4,
 "nbformat_minor": 5
}
